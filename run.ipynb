{
 "cells": [
  {
   "cell_type": "code",
   "execution_count": null,
   "id": "415167d3",
   "metadata": {},
   "outputs": [],
   "source": [
    "!pip install python-pptx "
   ]
  },
  {
   "cell_type": "code",
   "execution_count": null,
   "id": "d6f03f8e",
   "metadata": {},
   "outputs": [],
   "source": [
    "from typing import Final\n",
    "import boto3, os, pptx, json\n",
    "polly = boto3.client('polly')\n",
    "pptx_file_path:Final = './test.pptx' \n",
    "voice:Final = 'Takumi'"
   ]
  },
  {
   "cell_type": "code",
   "execution_count": null,
   "id": "86dcb884",
   "metadata": {},
   "outputs": [],
   "source": [
    "mp3_dir: Final[str] = 'mp3'\n",
    "!if [ -d ./{mp3_dir} ]; then rm -rf ./{mp3_dir}/;fi\n",
    "!mkdir ./{mp3_dir}/"
   ]
  },
  {
   "cell_type": "code",
   "execution_count": null,
   "id": "80502c1a",
   "metadata": {},
   "outputs": [],
   "source": [
    "def generate_ssml(text,speed=100):\n",
    "    ssml = f'<speak><prosody rate=\"{speed}%\">{text}</prosody></speak>'\n",
    "    return ssml"
   ]
  },
  {
   "cell_type": "code",
   "execution_count": null,
   "id": "02e1edfc",
   "metadata": {},
   "outputs": [],
   "source": [
    "def generate_mp3(ssml,mp3_dir,mp3_name,voice):\n",
    "    response = polly.synthesize_speech(\n",
    "        Engine='neural',\n",
    "        Text = ssml,\n",
    "        OutputFormat = \"mp3\", \n",
    "        TextType='ssml',\n",
    "        VoiceId = voice,\n",
    "    )\n",
    "    with open(os.path.join(mp3_dir,mp3_name), \"wb\") as f:\n",
    "        f.write(response['AudioStream'].read())"
   ]
  },
  {
   "cell_type": "code",
   "execution_count": null,
   "id": "e810ec67",
   "metadata": {},
   "outputs": [],
   "source": [
    "prs = pptx.Presentation(pptx_file_path)\n",
    "memo_list = []\n",
    "for i, sld in enumerate(prs.slides):\n",
    "    text = sld.notes_slide.notes_text_frame.text\n",
    "    memo_list.append({\n",
    "        'index' : str(i+1).zfill(3),\n",
    "        'ssml' : generate_ssml(sld.notes_slide.notes_text_frame.text,150)\n",
    "    })"
   ]
  },
  {
   "cell_type": "code",
   "execution_count": null,
   "id": "68c209bc",
   "metadata": {},
   "outputs": [],
   "source": [
    "# ここでSSMLをチェック＆修正する\n",
    "print(\n",
    "    json.dumps(\n",
    "        memo_list, indent=4\n",
    "    ).encode().decode('unicode-escape')\n",
    ")"
   ]
  },
  {
   "cell_type": "code",
   "execution_count": null,
   "id": "12a75131",
   "metadata": {},
   "outputs": [],
   "source": [
    "for memo in memo_list:\n",
    "    generate_mp3(memo['ssml'], mp3_dir, memo['index']+'.mp3', voice)"
   ]
  },
  {
   "cell_type": "code",
   "execution_count": null,
   "id": "66b2a234",
   "metadata": {},
   "outputs": [],
   "source": [
    "!zip -r mp3.zip ./{mp3_dir}"
   ]
  },
  {
   "cell_type": "code",
   "execution_count": null,
   "id": "11f528a7",
   "metadata": {},
   "outputs": [],
   "source": []
  }
 ],
 "metadata": {
  "kernelspec": {
   "display_name": "conda_python3",
   "language": "python",
   "name": "conda_python3"
  },
  "language_info": {
   "codemirror_mode": {
    "name": "ipython",
    "version": 3
   },
   "file_extension": ".py",
   "mimetype": "text/x-python",
   "name": "python",
   "nbconvert_exporter": "python",
   "pygments_lexer": "ipython3",
   "version": "3.8.12"
  }
 },
 "nbformat": 4,
 "nbformat_minor": 5
}
